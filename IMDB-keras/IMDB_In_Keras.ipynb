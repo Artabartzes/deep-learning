{
 "cells": [
  {
   "cell_type": "markdown",
   "metadata": {},
   "source": [
    "# Analyzing IMDB Data in Keras"
   ]
  },
  {
   "cell_type": "code",
   "execution_count": 12,
   "metadata": {},
   "outputs": [],
   "source": [
    "# Imports\n",
    "import numpy as np\n",
    "import keras\n",
    "from keras.datasets import imdb\n",
    "from keras.models import Sequential\n",
    "from keras.layers import Dense, Dropout, Activation, Flatten\n",
    "from keras.preprocessing.text import Tokenizer\n",
    "import matplotlib.pyplot as plt\n",
    "%matplotlib inline\n",
    "\n",
    "np.random.seed(42)"
   ]
  },
  {
   "cell_type": "markdown",
   "metadata": {},
   "source": [
    "## 1. Loading the data\n",
    "This dataset comes preloaded with Keras, so one simple command will get us training and testing data. There is a parameter for how many words we want to look at. We've set it at 1000, but feel free to experiment."
   ]
  },
  {
   "cell_type": "code",
   "execution_count": 13,
   "metadata": {},
   "outputs": [],
   "source": [
    "# Loading the data (it's preloaded in Keras)\n",
    "num_words = 500\n",
    "(x_train, y_train), (x_test, y_test) = imdb.load_data(num_words=num_words)"
   ]
  },
  {
   "cell_type": "markdown",
   "metadata": {},
   "source": [
    "## 2. Examining the data\n",
    "Notice that the data has been already pre-processed, where all the words have numbers, and the reviews come in as a vector with the words that the review contains. For example, if the word 'the' is the first one in our dictionary, and a review contains the word 'the', then there is a 1 in the corresponding vector.\n",
    "\n",
    "The output comes as a vector of 1's and 0's, where 1 is a positive sentiment for the review, and 0 is negative."
   ]
  },
  {
   "cell_type": "code",
   "execution_count": 14,
   "metadata": {},
   "outputs": [
    {
     "name": "stdout",
     "output_type": "stream",
     "text": [
      "[1, 11, 2, 11, 4, 2, 2, 2, 299, 2, 2, 2, 2, 37, 47, 27, 2, 2, 2, 19, 6, 2, 15, 2, 2, 17, 2, 2, 2, 2, 2, 46, 4, 232, 2, 39, 107, 2, 11, 4, 2, 198, 24, 4, 2, 133, 4, 107, 7, 98, 413, 2, 2, 11, 35, 2, 8, 169, 4, 2, 5, 259, 334, 2, 8, 4, 2, 10, 10, 17, 16, 2, 46, 34, 101, 2, 7, 84, 18, 49, 282, 167, 2, 2, 122, 24, 2, 8, 177, 4, 392, 2, 19, 259, 15, 2, 40, 2, 39, 2, 260, 77, 8, 162, 2, 121, 4, 65, 304, 273, 13, 70, 2, 2, 8, 15, 2, 2, 5, 27, 322, 2, 2, 2, 70, 30, 2, 88, 17, 6, 2, 2, 29, 100, 30, 2, 50, 21, 18, 148, 15, 26, 2, 12, 152, 157, 10, 10, 21, 19, 2, 46, 50, 5, 4, 2, 112, 2, 6, 2, 4, 162, 2, 2, 2, 6, 2, 7, 4, 2, 2, 4, 351, 232, 385, 125, 6, 2, 39, 2, 5, 29, 69, 2, 2, 6, 162, 2, 2, 232, 256, 34, 2, 2, 2, 8, 6, 226, 2, 7, 2, 2, 5, 2, 2, 6, 2, 7, 4, 351, 232, 37, 9, 2, 8, 123, 2, 2, 2, 188, 2, 2, 11, 4, 86, 22, 121, 29, 2, 2, 10, 10, 2, 61, 2, 11, 14, 22, 9, 2, 2, 14, 2, 208, 159, 2, 16, 2, 5, 187, 15, 58, 29, 93, 6, 2, 7, 395, 62, 30, 2, 493, 37, 26, 66, 2, 29, 299, 4, 172, 243, 7, 217, 11, 4, 2, 2, 22, 4, 2, 2, 13, 70, 243, 7, 2, 19, 2, 11, 15, 236, 2, 136, 121, 29, 5, 2, 26, 112, 2, 180, 34, 2, 2, 5, 320, 4, 162, 2, 2, 319, 4, 2, 2, 2, 269, 8, 401, 56, 19, 2, 16, 142, 334, 88, 146, 243, 7, 11, 2, 2, 150, 11, 4, 2, 2, 10, 10, 2, 2, 4, 206, 170, 33, 6, 52, 2, 225, 55, 117, 180, 58, 11, 14, 22, 48, 50, 16, 101, 329, 12, 62, 30, 35, 2, 2, 22, 2, 11, 4, 2, 2, 35, 2, 18, 118, 204, 2, 15, 291, 10, 10, 2, 82, 93, 52, 361, 7, 4, 162, 2, 2, 5, 4, 2, 2, 49, 7, 4, 172, 2, 7, 2, 26, 303, 343, 11, 23, 4, 2, 11, 192, 2, 11, 4, 2, 9, 44, 84, 24, 2, 54, 36, 66, 144, 11, 68, 205, 118, 2, 55, 2, 174, 8, 23, 4, 2, 10, 10, 2, 11, 4, 2, 127, 316, 2, 37, 16, 2, 19, 12, 150, 138, 426, 2, 2, 79, 49, 2, 162, 2, 2, 84, 11, 4, 392, 2]\n",
      "1\n"
     ]
    }
   ],
   "source": [
    "print(x_train[0])\n",
    "print(y_train[0])\n",
    "\n",
    "#xmax = 0\n",
    "#for x in x_train:\n",
    "#    xmax = max(xmax,len(x))\n",
    "#print('Maximum length=',xmax)"
   ]
  },
  {
   "cell_type": "markdown",
   "metadata": {},
   "source": [
    "## 3. One-hot encoding the output\n",
    "Here, we'll turn the input vectors into (0,1)-vectors. For example, if the pre-processed vector contains the number 14, then in the processed vector, the 14th entry will be 1."
   ]
  },
  {
   "cell_type": "code",
   "execution_count": 15,
   "metadata": {},
   "outputs": [
    {
     "name": "stdout",
     "output_type": "stream",
     "text": [
      "<class 'numpy.ndarray'>\n",
      "<class 'numpy.ndarray'>\n",
      "<class 'numpy.ndarray'>\n",
      "(25000, 500)\n"
     ]
    }
   ],
   "source": [
    "# One-hot encoding the output into vector mode, each of length 1000\n",
    "print(type(x_train))\n",
    "print(type(x_test))\n",
    "tokenizer = Tokenizer(num_words=num_words)\n",
    "x_train = tokenizer.sequences_to_matrix(x_train, mode='binary')\n",
    "x_test = tokenizer.sequences_to_matrix(x_test, mode='binary')\n",
    "#print(x_train[0])\n",
    "print(type(x_train))\n",
    "print(x_train.shape)"
   ]
  },
  {
   "cell_type": "markdown",
   "metadata": {},
   "source": [
    "And we'll also one-hot encode the output."
   ]
  },
  {
   "cell_type": "code",
   "execution_count": 16,
   "metadata": {},
   "outputs": [
    {
     "name": "stdout",
     "output_type": "stream",
     "text": [
      "(25000, 500) (25000, 2)\n",
      "(25000, 500) (25000, 2)\n"
     ]
    }
   ],
   "source": [
    "# One-hot encoding the output\n",
    "num_classes = 2\n",
    "y_train = keras.utils.to_categorical(y_train, num_classes)\n",
    "y_test = keras.utils.to_categorical(y_test, num_classes)\n",
    "print(x_train.shape,y_train.shape)\n",
    "print(x_test.shape,y_test.shape)"
   ]
  },
  {
   "cell_type": "markdown",
   "metadata": {},
   "source": [
    "## 4. Building the  model architecture\n",
    "Build a model here using sequential. Feel free to experiment with different layers and sizes! Also, experiment adding dropout to reduce overfitting."
   ]
  },
  {
   "cell_type": "code",
   "execution_count": 17,
   "metadata": {},
   "outputs": [
    {
     "name": "stdout",
     "output_type": "stream",
     "text": [
      "_________________________________________________________________\n",
      "Layer (type)                 Output Shape              Param #   \n",
      "=================================================================\n",
      "dense_7 (Dense)              (None, 16)                8016      \n",
      "_________________________________________________________________\n",
      "dropout_5 (Dropout)          (None, 16)                0         \n",
      "_________________________________________________________________\n",
      "dense_8 (Dense)              (None, 12)                204       \n",
      "_________________________________________________________________\n",
      "dropout_6 (Dropout)          (None, 12)                0         \n",
      "_________________________________________________________________\n",
      "dense_9 (Dense)              (None, 8)                 104       \n",
      "_________________________________________________________________\n",
      "dropout_7 (Dropout)          (None, 8)                 0         \n",
      "_________________________________________________________________\n",
      "dense_10 (Dense)             (None, 2)                 18        \n",
      "=================================================================\n",
      "Total params: 8,342\n",
      "Trainable params: 8,342\n",
      "Non-trainable params: 0\n",
      "_________________________________________________________________\n"
     ]
    }
   ],
   "source": [
    "# TODO: Build the model architecture\n",
    "# Building the model\n",
    "model = Sequential()\n",
    "model.add(Dense(16, activation='relu', input_dim=num_words))\n",
    "model.add(Dropout(.2))\n",
    "model.add(Dense(12, activation='relu'))\n",
    "model.add(Dropout(.2))\n",
    "model.add(Dense(8, activation='relu'))\n",
    "model.add(Dropout(.1))\n",
    "model.add(Dense(2))\n",
    "\n",
    "# TODO: Compile the model using a loss function and an optimizer.\n",
    "model.compile(loss = 'categorical_crossentropy', optimizer='adam', metrics=['accuracy'])\n",
    "model.summary()"
   ]
  },
  {
   "cell_type": "markdown",
   "metadata": {},
   "source": [
    "## 5. Training the model\n",
    "Run the model here. Experiment with different batch_size, and number of epochs!"
   ]
  },
  {
   "cell_type": "code",
   "execution_count": 18,
   "metadata": {},
   "outputs": [
    {
     "name": "stdout",
     "output_type": "stream",
     "text": [
      "Epoch 1/26\n",
      "25000/25000 [==============================] - 1s 39us/step - loss: 1.7574 - acc: 0.5197\n",
      "Epoch 2/26\n",
      "25000/25000 [==============================] - 1s 22us/step - loss: 0.7975 - acc: 0.5451\n",
      "Epoch 3/26\n",
      "25000/25000 [==============================] - 1s 22us/step - loss: 0.6525 - acc: 0.6366\n",
      "Epoch 4/26\n",
      "25000/25000 [==============================] - 1s 21us/step - loss: 0.5817 - acc: 0.7064\n",
      "Epoch 5/26\n",
      "25000/25000 [==============================] - 1s 20us/step - loss: 0.5592 - acc: 0.7318\n",
      "Epoch 6/26\n",
      "25000/25000 [==============================] - 1s 21us/step - loss: 0.5477 - acc: 0.7414\n",
      "Epoch 7/26\n",
      "25000/25000 [==============================] - 1s 22us/step - loss: 0.5154 - acc: 0.7589\n",
      "Epoch 8/26\n",
      "25000/25000 [==============================] - 1s 21us/step - loss: 0.4896 - acc: 0.7728\n",
      "Epoch 9/26\n",
      "25000/25000 [==============================] - 1s 20us/step - loss: 0.4734 - acc: 0.7854\n",
      "Epoch 10/26\n",
      "25000/25000 [==============================] - 1s 21us/step - loss: 0.4646 - acc: 0.7888\n",
      "Epoch 11/26\n",
      "25000/25000 [==============================] - 1s 22us/step - loss: 0.4471 - acc: 0.8020\n",
      "Epoch 12/26\n",
      "25000/25000 [==============================] - 1s 24us/step - loss: 0.4307 - acc: 0.8139\n",
      "Epoch 13/26\n",
      "25000/25000 [==============================] - 1s 24us/step - loss: 0.4277 - acc: 0.8182\n",
      "Epoch 14/26\n",
      "25000/25000 [==============================] - 1s 24us/step - loss: 0.4131 - acc: 0.8216\n",
      "Epoch 15/26\n",
      "25000/25000 [==============================] - 1s 22us/step - loss: 0.4078 - acc: 0.8236\n",
      "Epoch 16/26\n",
      "25000/25000 [==============================] - 1s 22us/step - loss: 0.4022 - acc: 0.8296\n",
      "Epoch 17/26\n",
      "25000/25000 [==============================] - 1s 26us/step - loss: 0.4167 - acc: 0.8218\n",
      "Epoch 18/26\n",
      "25000/25000 [==============================] - 1s 26us/step - loss: 0.3927 - acc: 0.8339\n",
      "Epoch 19/26\n",
      "25000/25000 [==============================] - 1s 27us/step - loss: 0.3838 - acc: 0.8369\n",
      "Epoch 20/26\n",
      "25000/25000 [==============================] - 1s 24us/step - loss: 0.3791 - acc: 0.8380\n",
      "Epoch 21/26\n",
      "25000/25000 [==============================] - 1s 23us/step - loss: 0.3807 - acc: 0.8407\n",
      "Epoch 22/26\n",
      "25000/25000 [==============================] - 1s 23us/step - loss: 0.3757 - acc: 0.8433\n",
      "Epoch 23/26\n",
      "25000/25000 [==============================] - 1s 22us/step - loss: 0.3696 - acc: 0.8452\n",
      "Epoch 24/26\n",
      "25000/25000 [==============================] - 1s 27us/step - loss: 0.3717 - acc: 0.8448\n",
      "Epoch 25/26\n",
      "25000/25000 [==============================] - 1s 28us/step - loss: 0.3701 - acc: 0.8472\n",
      "Epoch 26/26\n",
      "25000/25000 [==============================] - 1s 28us/step - loss: 0.3649 - acc: 0.8498\n"
     ]
    },
    {
     "data": {
      "text/plain": [
       "<keras.callbacks.History at 0x7ffa6d6423c8>"
      ]
     },
     "execution_count": 18,
     "metadata": {},
     "output_type": "execute_result"
    }
   ],
   "source": [
    "# TODO: Run the model. Feel free to experiment with different batch sizes and number of epochs.\n",
    "\n",
    "model.fit(x_train, y_train, epochs=26, batch_size=100, verbose=1)"
   ]
  },
  {
   "cell_type": "markdown",
   "metadata": {},
   "source": [
    "## 6. Evaluating the model\n",
    "This will give you the accuracy of the model, as evaluated on the testing set. Can you get something over 85%?"
   ]
  },
  {
   "cell_type": "code",
   "execution_count": 19,
   "metadata": {},
   "outputs": [
    {
     "name": "stdout",
     "output_type": "stream",
     "text": [
      "Train Accuracy:  0.8688\n",
      "Test Accuracy:  0.8206\n"
     ]
    }
   ],
   "source": [
    "score = model.evaluate(x_train, y_train, verbose=0)\n",
    "print(\"Train Accuracy: \", score[1])\n",
    "score = model.evaluate(x_test, y_test, verbose=0)\n",
    "print(\"Test Accuracy: \", score[1])"
   ]
  },
  {
   "cell_type": "markdown",
   "metadata": {},
   "source": [
    "## Solution"
   ]
  },
  {
   "cell_type": "code",
   "execution_count": 20,
   "metadata": {},
   "outputs": [
    {
     "name": "stdout",
     "output_type": "stream",
     "text": [
      "_________________________________________________________________\n",
      "Layer (type)                 Output Shape              Param #   \n",
      "=================================================================\n",
      "dense_11 (Dense)             (None, 512)               256512    \n",
      "_________________________________________________________________\n",
      "dropout_8 (Dropout)          (None, 512)               0         \n",
      "_________________________________________________________________\n",
      "dense_12 (Dense)             (None, 2)                 1026      \n",
      "=================================================================\n",
      "Total params: 257,538\n",
      "Trainable params: 257,538\n",
      "Non-trainable params: 0\n",
      "_________________________________________________________________\n",
      "Train on 25000 samples, validate on 25000 samples\n",
      "Epoch 1/10\n",
      " - 7s - loss: 0.4719 - acc: 0.7867 - val_loss: 0.4397 - val_acc: 0.8102\n",
      "Epoch 2/10\n",
      " - 7s - loss: 0.5589 - acc: 0.7882 - val_loss: 1.8685 - val_acc: 0.5996\n",
      "Epoch 3/10\n",
      " - 7s - loss: 0.9123 - acc: 0.7654 - val_loss: 1.1394 - val_acc: 0.7484\n",
      "Epoch 4/10\n",
      " - 6s - loss: 1.3815 - acc: 0.7635 - val_loss: 1.7342 - val_acc: 0.7405\n",
      "Epoch 5/10\n",
      " - 6s - loss: 1.7195 - acc: 0.7746 - val_loss: 3.2237 - val_acc: 0.6889\n",
      "Epoch 6/10\n",
      " - 6s - loss: 1.9551 - acc: 0.7826 - val_loss: 1.8106 - val_acc: 0.7969\n",
      "Epoch 7/10\n",
      " - 6s - loss: 2.1752 - acc: 0.7892 - val_loss: 3.1539 - val_acc: 0.7251\n",
      "Epoch 8/10\n",
      " - 6s - loss: 2.3345 - acc: 0.7961 - val_loss: 2.3594 - val_acc: 0.8033\n",
      "Epoch 9/10\n",
      " - 6s - loss: 2.4120 - acc: 0.8033 - val_loss: 3.2245 - val_acc: 0.7572\n",
      "Epoch 10/10\n",
      " - 6s - loss: 2.5199 - acc: 0.8035 - val_loss: 2.2895 - val_acc: 0.8235\n"
     ]
    }
   ],
   "source": [
    "# Building the model architecture with one layer of length 100\n",
    "smodel = Sequential()\n",
    "smodel.add(Dense(512, activation='relu', input_dim=num_words))\n",
    "smodel.add(Dropout(0.5))\n",
    "smodel.add(Dense(num_classes, activation='softmax'))\n",
    "smodel.summary()\n",
    "\n",
    "# Compiling the model using categorical_crossentropy loss, and rmsprop optimizer.\n",
    "smodel.compile(loss='categorical_crossentropy',\n",
    "              optimizer='rmsprop',\n",
    "              metrics=['accuracy'])\n",
    "\n",
    "# Running and evaluating the model\n",
    "hist = smodel.fit(x_train, y_train,\n",
    "          batch_size=32,\n",
    "          epochs=10,\n",
    "          validation_data=(x_test, y_test), \n",
    "          verbose=2)"
   ]
  },
  {
   "cell_type": "code",
   "execution_count": 21,
   "metadata": {},
   "outputs": [
    {
     "name": "stdout",
     "output_type": "stream",
     "text": [
      "Train Accuracy:  0.83508\n",
      "Test Accuracy:  0.82348\n"
     ]
    }
   ],
   "source": [
    "sscore = smodel.evaluate(x_train, y_train, verbose=0)\n",
    "print(\"Train Accuracy: \", sscore[1])\n",
    "sscore = smodel.evaluate(x_test, y_test, verbose=0)\n",
    "print(\"Test Accuracy: \", sscore[1])"
   ]
  }
 ],
 "metadata": {
  "kernelspec": {
   "display_name": "Python 3",
   "language": "python",
   "name": "python3"
  },
  "language_info": {
   "codemirror_mode": {
    "name": "ipython",
    "version": 3
   },
   "file_extension": ".py",
   "mimetype": "text/x-python",
   "name": "python",
   "nbconvert_exporter": "python",
   "pygments_lexer": "ipython3",
   "version": "3.6.3"
  }
 },
 "nbformat": 4,
 "nbformat_minor": 2
}
